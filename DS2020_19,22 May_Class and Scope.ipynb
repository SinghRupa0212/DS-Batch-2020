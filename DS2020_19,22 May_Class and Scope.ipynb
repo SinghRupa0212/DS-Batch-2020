{
 "cells": [
  {
   "cell_type": "markdown",
   "metadata": {},
   "source": [
    "## Class and OOPS Concept"
   ]
  },
  {
   "cell_type": "markdown",
   "metadata": {},
   "source": [
    " Scope of Variables in Python: A variable that is defined inside a function has a Local Scope, or it called Local to that \n",
    "function"
   ]
  },
  {
   "cell_type": "code",
   "execution_count": 1,
   "metadata": {},
   "outputs": [
    {
     "name": "stdout",
     "output_type": "stream",
     "text": [
      "7\n"
     ]
    }
   ],
   "source": [
    "def fun():      #(first letter-> (A-Z),(a-z)or(_) (0-9))\n",
    "    x=7     --> Local scope, cannot be accessed outside the function\n",
    "    print(x)\n",
    "fun()"
   ]
  },
  {
   "cell_type": "markdown",
   "metadata": {},
   "source": [
    "### Global Scope of a variable"
   ]
  },
  {
   "cell_type": "code",
   "execution_count": 2,
   "metadata": {},
   "outputs": [
    {
     "name": "stdout",
     "output_type": "stream",
     "text": [
      "7\n"
     ]
    }
   ],
   "source": [
    "## defined outside the function\n",
    "\n",
    "y=7   --> Global scope\n",
    "\n",
    "def fun():\n",
    "    print(y)\n",
    "fun()"
   ]
  },
  {
   "cell_type": "code",
   "execution_count": 5,
   "metadata": {},
   "outputs": [
    {
     "name": "stdout",
     "output_type": "stream",
     "text": [
      "7\n"
     ]
    }
   ],
   "source": [
    "y=7   #--> Global scope\n",
    "\n",
    "def fun():\n",
    "    x=4\n",
    "    print(y)\n",
    "fun()"
   ]
  },
  {
   "cell_type": "code",
   "execution_count": 6,
   "metadata": {},
   "outputs": [
    {
     "name": "stdout",
     "output_type": "stream",
     "text": [
      "10\n"
     ]
    }
   ],
   "source": [
    "y=7\n",
    "\n",
    "def fun():\n",
    "    global y   # you can change the global variable by using 'global' keyword inside the function._\n",
    "    y=y+3\n",
    "    print(y)\n",
    "fun()"
   ]
  },
  {
   "cell_type": "markdown",
   "metadata": {},
   "source": [
    "## Python Recursion Function"
   ]
  },
  {
   "cell_type": "code",
   "execution_count": 7,
   "metadata": {},
   "outputs": [],
   "source": [
    "# Recursion is using something to define 'Itself' or something calling itself."
   ]
  },
  {
   "cell_type": "code",
   "execution_count": 8,
   "metadata": {},
   "outputs": [],
   "source": [
    "## Factorial of a number 5!= 5*(5-1)*(5-2)*(5-3)..1= 5.4.3.2.1"
   ]
  },
  {
   "cell_type": "code",
   "execution_count": 9,
   "metadata": {},
   "outputs": [
    {
     "data": {
      "text/plain": [
       "120"
      ]
     },
     "execution_count": 9,
     "metadata": {},
     "output_type": "execute_result"
    }
   ],
   "source": [
    "def factorial(n):\n",
    "    if n==1:\n",
    "        return 1\n",
    "    else:\n",
    "        return (n*factorial(n-1))\n",
    "factorial(5)"
   ]
  },
  {
   "cell_type": "code",
   "execution_count": 10,
   "metadata": {},
   "outputs": [
    {
     "name": "stdin",
     "output_type": "stream",
     "text": [
      "Enter the number: 5\n"
     ]
    },
    {
     "name": "stdout",
     "output_type": "stream",
     "text": [
      "Factorial of 5 is 120\n"
     ]
    }
   ],
   "source": [
    "def factorial(n):\n",
    "    if n==1:\n",
    "        return 1\n",
    "    else:\n",
    "        return (n*factorial(n-1))\n",
    "n= int(input(\"Enter the number:\"))\n",
    "Result=factorial(n)\n",
    "print(\"Factorial of\", n,\"is\", Result)"
   ]
  },
  {
   "cell_type": "markdown",
   "metadata": {},
   "source": [
    "## Class"
   ]
  },
  {
   "cell_type": "markdown",
   "metadata": {},
   "source": [
    " LEGB Rule==> scope rule used by Python to determine which update function to call or which variable to use\n",
    "    \n",
    "    Python scope rules moves from Inner layer to Outer Layer\n",
    "\n",
    "    L== > Local Scope --> is the current function that you are in\n",
    "    E== > Enclosing Function --> this called the current Function\n",
    "    G==> Gloabl Scope  ----> refers to the module in which the function was defined\n",
    "    B==> Built-in function -- > Python Built in Namespaces\n",
    "\n",
    "    "
   ]
  },
  {
   "cell_type": "markdown",
   "metadata": {},
   "source": [
    "## Mutability and Immutability of Python Objects"
   ]
  },
  {
   "cell_type": "markdown",
   "metadata": {},
   "source": [
    "def update(n,x):\n",
    "    \n",
    "    "
   ]
  },
  {
   "cell_type": "code",
   "execution_count": 16,
   "metadata": {},
   "outputs": [
    {
     "name": "stdout",
     "output_type": "stream",
     "text": [
      "main 1 [0, 1, 2, 3]\n",
      "update 2 [0, 1, 2, 3, 4]\n",
      "main 1 [0, 1, 2, 3, 4]\n"
     ]
    }
   ],
   "source": [
    "def update (n,x):\n",
    "    n=2\n",
    "    x.append(4)\n",
    "    print('update', n,x)\n",
    "\n",
    "def main():  # <------- Control goes First\n",
    "    n=1\n",
    "    x=[0,1,2,3]\n",
    "    print('main', n, x)\n",
    "    update(n,x)  #-------->  control goes second\n",
    "    print('main',n,x)---> \n",
    "main()"
   ]
  },
  {
   "cell_type": "raw",
   "metadata": {},
   "source": [
    "main 1 [0,1,2,3]\n",
    "\n",
    "update 2 [0,1,2,3,4]\n",
    "\n",
    "main 1 [0,1,2,3,4]"
   ]
  },
  {
   "cell_type": "code",
   "execution_count": 17,
   "metadata": {},
   "outputs": [],
   "source": [
    "# Argument--> is an object that is passed to a function as its Input when the function is called\n",
    "\n",
    "# Parameter --> is a variable that is used in the function definition to refer to that argument."
   ]
  },
  {
   "cell_type": "code",
   "execution_count": 19,
   "metadata": {},
   "outputs": [
    {
     "name": "stdout",
     "output_type": "stream",
     "text": [
      "2\n",
      "1\n"
     ]
    }
   ],
   "source": [
    "def increment(n):  #--- third Control\n",
    "    n=1+n            # performs operation , n=2\n",
    "    print(n)       #2\n",
    "\n",
    "n=1        # First Control\n",
    "increment(n)  # Second Control\n",
    "print(n)      # Last control, output as 1     (2,1)"
   ]
  },
  {
   "cell_type": "markdown",
   "metadata": {},
   "source": [
    " Class Definition: Blueprint for future Object Types \n",
    "==> From Classes we construct Instances  --> an instance is a specific object created from a particular class\n",
    "==> Class Attributes  --> Characteristics of an Object\n",
    "==> Class Methods --> Performing Operations with the Object"
   ]
  },
  {
   "cell_type": "code",
   "execution_count": 20,
   "metadata": {},
   "outputs": [],
   "source": [
    "## class Dog(object):"
   ]
  },
  {
   "cell_type": "markdown",
   "metadata": {},
   "source": [
    "# Syntax for Attributes:\n",
    "\n",
    "self.attribute= something\n",
    "\n",
    "special method __init__()  --> This method is used to initialise the attribute of an Object"
   ]
  },
  {
   "cell_type": "code",
   "execution_count": 21,
   "metadata": {},
   "outputs": [
    {
     "name": "stdout",
     "output_type": "stream",
     "text": [
      "<class '__main__.Sample'>\n"
     ]
    }
   ],
   "source": [
    "class Sample(object):\n",
    "    pass\n",
    "\n",
    "# instance of Sample\n",
    "\n",
    "x= Sample() # ---> instance of a sample class\n",
    "print(type(x))"
   ]
  },
  {
   "cell_type": "code",
   "execution_count": 25,
   "metadata": {},
   "outputs": [
    {
     "data": {
      "text/plain": [
       "'Lab'"
      ]
     },
     "execution_count": 25,
     "metadata": {},
     "output_type": "execute_result"
    }
   ],
   "source": [
    "class Dog (object):\n",
    "    def __init__(self, breed):\n",
    "        self.breed=breed\n",
    "sam= Dog(breed='Lab')\n",
    "Frank= Dog(breed='Huskie')\n",
    "sam.breed"
   ]
  },
  {
   "cell_type": "code",
   "execution_count": 26,
   "metadata": {},
   "outputs": [
    {
     "data": {
      "text/plain": [
       "'Huskie'"
      ]
     },
     "execution_count": 26,
     "metadata": {},
     "output_type": "execute_result"
    }
   ],
   "source": [
    "Frank.breed"
   ]
  },
  {
   "cell_type": "markdown",
   "metadata": {},
   "source": [
    "### Class Object Attribute"
   ]
  },
  {
   "cell_type": "raw",
   "metadata": {},
   "source": [
    "==> same for any instance of the class\n",
    "==> Eg. Regardless of the breed, name or any other attribute, (Dog) will always be a mammal"
   ]
  },
  {
   "cell_type": "code",
   "execution_count": 1,
   "metadata": {},
   "outputs": [],
   "source": [
    "class Dog(object):\n",
    "    species = 'mammal'\n",
    "    \n",
    "    def __init__(self, breed, name):\n",
    "        self.breed=breed\n",
    "        self.name=name\n",
    "\n",
    "Sam= Dog('Lab', 'Sam')\n"
   ]
  },
  {
   "cell_type": "code",
   "execution_count": 2,
   "metadata": {},
   "outputs": [
    {
     "data": {
      "text/plain": [
       "'Sam'"
      ]
     },
     "execution_count": 2,
     "metadata": {},
     "output_type": "execute_result"
    }
   ],
   "source": [
    "Sam.name"
   ]
  },
  {
   "cell_type": "code",
   "execution_count": 3,
   "metadata": {},
   "outputs": [
    {
     "data": {
      "text/plain": [
       "'mammal'"
      ]
     },
     "execution_count": 3,
     "metadata": {},
     "output_type": "execute_result"
    }
   ],
   "source": [
    "Sam.species"
   ]
  },
  {
   "cell_type": "code",
   "execution_count": 5,
   "metadata": {},
   "outputs": [],
   "source": [
    "class Dog(object):\n",
    "    species = 'mammal'  # class Object Attribute\n",
    "    \n",
    "    def __init__(self, breed, name):   # initialization by using constructor\n",
    "        self.breed=breed\n",
    "        self.name=name\n",
    "\n",
    "X= Dog('Lab', 'Sam')\n",
    "Y= Dog('Huskie', 'Frank')"
   ]
  },
  {
   "cell_type": "code",
   "execution_count": 6,
   "metadata": {},
   "outputs": [
    {
     "data": {
      "text/plain": [
       "'Frank'"
      ]
     },
     "execution_count": 6,
     "metadata": {},
     "output_type": "execute_result"
    }
   ],
   "source": [
    "Y.name"
   ]
  },
  {
   "cell_type": "code",
   "execution_count": 7,
   "metadata": {},
   "outputs": [
    {
     "data": {
      "text/plain": [
       "'mammal'"
      ]
     },
     "execution_count": 7,
     "metadata": {},
     "output_type": "execute_result"
    }
   ],
   "source": [
    "Y.species"
   ]
  },
  {
   "cell_type": "markdown",
   "metadata": {},
   "source": [
    "### Methods"
   ]
  },
  {
   "cell_type": "raw",
   "metadata": {},
   "source": [
    "# Methods are functions defined inside the body of the class , they are used to perform Operations with attributes of our objects"
   ]
  },
  {
   "cell_type": "code",
   "execution_count": 8,
   "metadata": {},
   "outputs": [
    {
     "data": {
      "text/plain": [
       "3.14"
      ]
     },
     "execution_count": 8,
     "metadata": {},
     "output_type": "execute_result"
    }
   ],
   "source": [
    "class Circle(object):\n",
    "    \n",
    "    pi= 3.14\n",
    "    \n",
    "    def __init__(self, radius=1):\n",
    "        self.radius=radius\n",
    "        \n",
    "    def Area(self):\n",
    "        return (self.radius)**2*Circle.pi\n",
    "\n",
    "c= Circle()\n",
    "c.Area()"
   ]
  },
  {
   "cell_type": "code",
   "execution_count": 10,
   "metadata": {},
   "outputs": [
    {
     "data": {
      "text/plain": [
       "50.24"
      ]
     },
     "execution_count": 10,
     "metadata": {},
     "output_type": "execute_result"
    }
   ],
   "source": [
    "c= Circle(4)\n",
    "c.Area()"
   ]
  },
  {
   "cell_type": "code",
   "execution_count": 11,
   "metadata": {},
   "outputs": [],
   "source": [
    "### To find volume of a Cylinder  # Area of Cylinder = 2*pi*r(r+h)  = 2*pi*r**2 + 2*pi*r*h"
   ]
  },
  {
   "cell_type": "code",
   "execution_count": 20,
   "metadata": {},
   "outputs": [
    {
     "name": "stdout",
     "output_type": "stream",
     "text": [
      "3.14\n",
      "12.56\n"
     ]
    }
   ],
   "source": [
    "class Cylinder(object):\n",
    "    \n",
    "    def __init__(self, radius=1, height=1):\n",
    "        self.radius= radius\n",
    "        self.height= height\n",
    "    \n",
    "    def Volume(self):\n",
    "        return (3.14)*(self.radius)**2*(self.height)\n",
    "    \n",
    "    def Area(self):\n",
    "        top= (3.14)*(self.radius)**2\n",
    "        return 2*top + 2*(3.14)*(self.radius)*(self.height)\n",
    "\n",
    "c= Cylinder()\n",
    "print(c.Volume())\n",
    "print(c.Area())"
   ]
  },
  {
   "cell_type": "code",
   "execution_count": 13,
   "metadata": {},
   "outputs": [
    {
     "data": {
      "text/plain": [
       "12.56"
      ]
     },
     "execution_count": 13,
     "metadata": {},
     "output_type": "execute_result"
    }
   ],
   "source": [
    "c.Area()"
   ]
  },
  {
   "cell_type": "code",
   "execution_count": 18,
   "metadata": {},
   "outputs": [
    {
     "data": {
      "text/plain": [
       "226.08"
      ]
     },
     "execution_count": 18,
     "metadata": {},
     "output_type": "execute_result"
    }
   ],
   "source": [
    "c= Cylinder(4,5)\n",
    "\n"
   ]
  },
  {
   "cell_type": "code",
   "execution_count": 15,
   "metadata": {},
   "outputs": [
    {
     "data": {
      "text/plain": [
       "251.20000000000002"
      ]
     },
     "execution_count": 15,
     "metadata": {},
     "output_type": "execute_result"
    }
   ],
   "source": [
    "c.Volume()"
   ]
  },
  {
   "cell_type": "code",
   "execution_count": 16,
   "metadata": {},
   "outputs": [
    {
     "data": {
      "text/plain": [
       "226.08"
      ]
     },
     "execution_count": 16,
     "metadata": {},
     "output_type": "execute_result"
    }
   ],
   "source": [
    "c.Area()"
   ]
  },
  {
   "cell_type": "code",
   "execution_count": 21,
   "metadata": {},
   "outputs": [
    {
     "name": "stdout",
     "output_type": "stream",
     "text": [
      "Programmer\n"
     ]
    }
   ],
   "source": [
    "class Human:\n",
    "    profession =\"Programmer\"  # specify Attributes\n",
    "\n",
    "man= Human()\n",
    "print(man.profession)"
   ]
  },
  {
   "cell_type": "code",
   "execution_count": 22,
   "metadata": {},
   "outputs": [],
   "source": [
    "## After we have added attributes, we can define \"functions\"\n",
    "\n",
    "# Methods==> We always provide the first argument with 'self' keyword"
   ]
  },
  {
   "cell_type": "code",
   "execution_count": 23,
   "metadata": {},
   "outputs": [
    {
     "name": "stdout",
     "output_type": "stream",
     "text": [
      "Manager\n"
     ]
    }
   ],
   "source": [
    "class Human:\n",
    "    profession=\"Programmer\"\n",
    "    \n",
    "    def set_profession(self, new_profession):\n",
    "        self.profession= new_profession\n",
    "\n",
    "man=Human()\n",
    "man.set_profession('Manager')\n",
    "print(man.profession)"
   ]
  },
  {
   "cell_type": "code",
   "execution_count": 25,
   "metadata": {},
   "outputs": [],
   "source": [
    "## Assigning values for class Attributes at run time   ===> we need to add __init__ method "
   ]
  },
  {
   "cell_type": "code",
   "execution_count": 27,
   "metadata": {},
   "outputs": [
    {
     "name": "stdout",
     "output_type": "stream",
     "text": [
      "Manager\n"
     ]
    }
   ],
   "source": [
    "class Human:\n",
    "    def __init__(self, profession):\n",
    "        self.profession=profession\n",
    "    \n",
    "    def set_profession(self, new_profession):\n",
    "        self.profession=new_profession\n",
    "\n",
    "man= Human(\"Manager\")  \n",
    "print (man.profession)\n",
    "        "
   ]
  },
  {
   "cell_type": "markdown",
   "metadata": {},
   "source": [
    "### Inheritance"
   ]
  },
  {
   "cell_type": "code",
   "execution_count": null,
   "metadata": {},
   "outputs": [],
   "source": [
    "class MyList(list):\n",
    "    \n",
    "    MyList  --> (Derived Class) # Inherited class\n",
    "    list -----> (Base Class)"
   ]
  }
 ],
 "metadata": {
  "kernelspec": {
   "display_name": "Python 3",
   "language": "python",
   "name": "python3"
  },
  "language_info": {
   "codemirror_mode": {
    "name": "ipython",
    "version": 3
   },
   "file_extension": ".py",
   "mimetype": "text/x-python",
   "name": "python",
   "nbconvert_exporter": "python",
   "pygments_lexer": "ipython3",
   "version": "3.7.5"
  }
 },
 "nbformat": 4,
 "nbformat_minor": 4
}
